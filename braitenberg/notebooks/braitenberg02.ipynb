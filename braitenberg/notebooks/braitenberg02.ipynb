{
 "cells": [
  {
   "cell_type": "code",
   "execution_count": null,
   "metadata": {
    "collapsed": true,
    "tags": [
     "export"
    ]
   },
   "outputs": [],
   "source": [
    "# Note: this cell, tagged as \"export\", will become part of your agent\n",
    "from typing import Tuple\n",
    "import numpy as np"
   ]
  },
  {
   "cell_type": "code",
   "execution_count": null,
   "metadata": {
    "pycharm": {
     "name": "#%%\n"
    },
    "tags": [
     "export"
    ]
   },
   "outputs": [],
   "source": [
    "# Note: this cell, tagged as \"export\", will become part of your agent\n",
    "def get_motor_left_matrix(shape: Tuple[int, int]) -> np.ndarray:\n",
    "    zeros = np.zeros(shape=shape, dtype='float32')\n",
    "    return zeros\n",
    "\n",
    "def get_motor_right_matrix(shape: Tuple[int, int])-> np.ndarray:\n",
    "    zeros = np.zeros(shape=shape, dtype='float32')\n",
    "    return zeros"
   ]
  },
  {
   "cell_type": "code",
   "execution_count": null,
   "metadata": {
    "pycharm": {
     "name": "#%%md\n"
    }
   },
   "outputs": [],
   "source": []
  },
  {
   "cell_type": "code",
   "execution_count": null,
   "metadata": {
    "pycharm": {
     "name": "#%%\n"
    }
   },
   "outputs": [],
   "source": [
    "raise Exception() # will not be part of agent anyway"
   ]
  }
 ],
 "metadata": {
  "celltoolbar": "Tags",
  "kernelspec": {
   "display_name": "",
   "language": "python",
   "name": ""
  },
  "language_info": {
   "codemirror_mode": {
    "name": "ipython",
    "version": 3
   },
   "file_extension": ".py",
   "mimetype": "text/x-python",
   "name": "python",
   "nbconvert_exporter": "python",
   "pygments_lexer": "ipython3",
   "version": "3.8.8"
  }
 },
 "nbformat": 4,
 "nbformat_minor": 1
}
