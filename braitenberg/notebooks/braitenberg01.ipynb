{
 "cells": [
  {
   "cell_type": "markdown",
   "metadata": {},
   "source": [
    "This notebook introduces some simple image manipulation techniques.\n",
    "\n",
    "We first import a few packages we need later."
   ]
  },
  {
   "cell_type": "code",
   "execution_count": null,
   "metadata": {
    "pycharm": {
     "name": "#%%\n"
    },
    "tags": [
     "export"
    ]
   },
   "outputs": [],
   "source": [
    "# Note: this cell is tagged as \"export\" and will become part of your agent\n",
    "import numpy as np\n",
    "from PIL import Image\n",
    "import io"
   ]
  },
  {
   "cell_type": "markdown",
   "metadata": {},
   "source": [
    "Here is a function that converts a JPEG image's bytes to a Numpy `nd.ndarray`."
   ]
  },
  {
   "cell_type": "code",
   "execution_count": null,
   "metadata": {
    "collapsed": true,
    "tags": [
     "export"
    ]
   },
   "outputs": [],
   "source": [
    "# Note: this cell is tagged as \"export\" and will become part of your agent\n",
    "def rgb_from_jpg_bytes(image_data: bytes) -> np.ndarray:\n",
    "    \"\"\" Reads JPG bytes as RGB. Returns a HxWx3 array\"\"\"\n",
    "    im = Image.open(io.BytesIO(image_data))\n",
    "    im = im.convert(\"RGB\")\n",
    "    data = np.array(im)\n",
    "    assert data.ndim == 3\n",
    "    assert data.dtype == np.uint8\n",
    "    return data"
   ]
  },
  {
   "cell_type": "markdown",
   "metadata": {},
   "source": [
    "This is how you could use it:"
   ]
  },
  {
   "cell_type": "code",
   "execution_count": null,
   "metadata": {},
   "outputs": [],
   "source": [
    "fn = 'image1.jpg'\n",
    "with open(fn) as f: \n",
    "    data= f.read()\n",
    "rgb = rgb_from_jpg_bytes(data)"
   ]
  },
  {
   "cell_type": "code",
   "execution_count": null,
   "metadata": {},
   "outputs": [],
   "source": []
  }
 ],
 "metadata": {
  "kernelspec": {
   "display_name": "",
   "language": "python",
   "name": ""
  },
  "language_info": {
   "codemirror_mode": {
    "name": "ipython",
    "version": 3
   },
   "file_extension": ".py",
   "mimetype": "text/x-python",
   "name": "python",
   "nbconvert_exporter": "python",
   "pygments_lexer": "ipython3",
   "version": "3.8.8"
  }
 },
 "nbformat": 4,
 "nbformat_minor": 1
}
