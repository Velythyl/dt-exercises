{
 "cells": [
  {
   "cell_type": "code",
   "execution_count": null,
   "id": "strategic-miniature",
   "metadata": {},
   "outputs": [],
   "source": [
    "def myfunction(x):\n",
    "    return x +2"
   ]
  },
  {
   "cell_type": "code",
   "execution_count": null,
   "id": "retired-sculpture",
   "metadata": {},
   "outputs": [],
   "source": [
    "image = 123\n"
   ]
  },
  {
   "cell_type": "code",
   "execution_count": null,
   "id": "sublime-growing",
   "metadata": {},
   "outputs": [],
   "source": [
    "b = image"
   ]
  },
  {
   "cell_type": "code",
   "execution_count": null,
   "id": "abandoned-formation",
   "metadata": {},
   "outputs": [],
   "source": [
    "    "
   ]
  }
 ],
 "metadata": {
  "kernelspec": {
   "display_name": "",
   "language": "python",
   "name": ""
  },
  "language_info": {
   "codemirror_mode": {
    "name": "ipython",
    "version": 3
   },
   "file_extension": ".py",
   "mimetype": "text/x-python",
   "name": "python",
   "nbconvert_exporter": "python",
   "pygments_lexer": "ipython3",
   "version": "3.8.8"
  }
 },
 "nbformat": 4,
 "nbformat_minor": 5
}
