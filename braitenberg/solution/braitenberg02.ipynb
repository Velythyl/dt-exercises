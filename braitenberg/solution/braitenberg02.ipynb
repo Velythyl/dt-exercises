{
 "cells": [
  {
   "cell_type": "code",
   "execution_count": null,
   "id": "07f86c63-2397-4662-a12d-b198808da09d",
   "metadata": {},
   "outputs": [],
   "source": [
    "%load_ext autoreload\n",
    "%autoreload 2\n",
    "from matplotlib.pyplot import imshow\n",
    "import numpy as np\n",
    "from typing import Tuple\n",
    "import duckietown_code_utils as dcu;\n",
    "import cv2;"
   ]
  },
  {
   "cell_type": "markdown",
   "id": "5e51a685-d0e9-4fe4-aeb3-c6dae02f294c",
   "metadata": {},
   "source": [
    "# Image filtering"
   ]
  },
  {
   "cell_type": "markdown",
   "id": "7ce4abea-d96c-4408-a52c-a1a169444e0c",
   "metadata": {},
   "source": [
    "Now we want to do some basic filtering of the images.\n",
    "\n",
    "In particular, let's say we want to avoid hitting duckies.\n",
    "\n",
    "We then need to highlight our duckies in the image."
   ]
  },
  {
   "cell_type": "markdown",
   "id": "983f1eda-9a2e-4f14-a4db-adadfe727951",
   "metadata": {},
   "source": [
    "Let's load a test image."
   ]
  },
  {
   "cell_type": "code",
   "execution_count": null,
   "id": "strategic-miniature",
   "metadata": {},
   "outputs": [],
   "source": [
    "fn = '../samples/big-duck/dt-social-04_08_2021_19_43_07.jpg'\n",
    "image = dcu.rgb_from_jpg_fn(fn)\n",
    "imshow(image);"
   ]
  },
  {
   "cell_type": "markdown",
   "id": "dc0f2050-2ed5-4ceb-ba6f-762b6eade900",
   "metadata": {},
   "source": [
    "Let's now convert it to [HSV color space](https://en.wikipedia.org/wiki/HSL_and_HSV) so that it is easier to filter by colors. \n"
   ]
  },
  {
   "cell_type": "code",
   "execution_count": null,
   "id": "a2114369-af42-4226-9078-7b7af7969885",
   "metadata": {},
   "outputs": [],
   "source": [
    "hsv = cv2.cvtColor(image, cv2.COLOR_RGB2HSV)"
   ]
  },
  {
   "cell_type": "markdown",
   "id": "91dbe8f3-1140-4013-a56a-5baec9863a77",
   "metadata": {},
   "source": [
    "We now apply the simple image processing technique. We want to highlight the region corresponding to a certain color. We define a region in HSV space with the following lower/upper bound:"
   ]
  },
  {
   "cell_type": "code",
   "execution_count": null,
   "id": "80ba645d-a6ff-4515-b3ce-0c512a917d2f",
   "metadata": {},
   "outputs": [],
   "source": [
    "lower_hsv = np.array([171, 140, 0])\n",
    "upper_hsv = np.array([179, 200, 255])"
   ]
  },
  {
   "cell_type": "markdown",
   "id": "fd50147c-cdb9-4454-b0a9-b8db08c3a29f",
   "metadata": {},
   "source": [
    "This means that, e.g., we are going to select only the pixels whose HSV value is between 171 and 179,"
   ]
  },
  {
   "cell_type": "markdown",
   "id": "2a76af3c-488a-4eff-a348-c7fba4f81198",
   "metadata": {},
   "source": [
    "This is how to do the filtering and show the result:"
   ]
  },
  {
   "cell_type": "code",
   "execution_count": null,
   "id": "2ad2062d-4f1f-42da-89cb-400e3a3099ab",
   "metadata": {},
   "outputs": [],
   "source": [
    "mask = cv2.inRange(hsv, lower_hsv, upper_hsv)\n",
    "masked = cv2.bitwise_and(image, image, mask=mask)\n",
    "imshow(masked);"
   ]
  },
  {
   "cell_type": "markdown",
   "id": "592e7660-072b-4b26-b036-afeaf418331a",
   "metadata": {},
   "source": [
    "The bounds we put by default highlight the beak. But we want the yellow of the duckie!\n",
    "\n",
    "Your task now is to change those numbers above so that we highlight the duckies.\n",
    "\n",
    "For this we suggest to use:\n",
    "\n",
    "1. [This online color picker](https://pinetools.com/image-color-picker) to click around and get familiar with what color corresponds to which HSV values. (You can use any other tool)\n",
    "2. In this folder there is a program called `HSV-bound.py` which you can run as `python HSV-bound.py <filename>` which will allow you to do this step interactively.\n"
   ]
  },
  {
   "cell_type": "markdown",
   "id": "b2d0373f-0b88-4aa4-94f8-a4de586ce0de",
   "metadata": {},
   "source": [
    "For reference, this is how it should look like."
   ]
  },
  {
   "cell_type": "code",
   "execution_count": null,
   "id": "3dae2648-1d0c-4329-8b6d-b2dc79f1fba0",
   "metadata": {},
   "outputs": [],
   "source": [
    "result = dcu.rgb_from_jpg_fn('../samples/result.jpg')\n",
    "imshow(result);"
   ]
  },
  {
   "cell_type": "markdown",
   "id": "4ef8aafc-40da-48e7-b7b0-422a22197236",
   "metadata": {},
   "source": [
    "After you have a satisfactory result, put your values in the file [preprocess.py](preprocess.py)."
   ]
  }
 ],
 "metadata": {
  "kernelspec": {
   "display_name": "",
   "language": "python",
   "name": ""
  },
  "language_info": {
   "codemirror_mode": {
    "name": "ipython",
    "version": 3
   },
   "file_extension": ".py",
   "mimetype": "text/x-python",
   "name": "python",
   "nbconvert_exporter": "python",
   "pygments_lexer": "ipython3",
   "version": "3.8.8"
  }
 },
 "nbformat": 4,
 "nbformat_minor": 5
}
