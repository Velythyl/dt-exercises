{
 "cells": [
  {
   "cell_type": "markdown",
   "metadata": {},
   "source": [
    "# Implementation of Braitenberg agent\n",
    "\n",
    "Now we know enough to implement our Braitenberg agent.\n",
    "\n",
    "\n",
    "We will implement an agent of the form \n",
    "\n",
    "```python\n",
    "left_motor = const + gain * normalized( np.sum(LEFT * gray) )\n",
    "right_motor = const + gain * normalized( np.sum(RIGHT * gray) )\n",
    "```\n",
    "\n",
    "where `gray` is the grayscale image, `LEFT` and `RIGHT` are the weight matrices. Const and gain are two extra parameters for fine tuning.\n",
    "\n",
    "\n"
   ]
  },
  {
   "cell_type": "code",
   "execution_count": null,
   "metadata": {
    "tags": [
     "export"
    ]
   },
   "outputs": [],
   "source": [
    "# Note: this cell, tagged as \"export\", will become part of your agent\n",
    "from typing import Tuple\n",
    "import numpy as np"
   ]
  },
  {
   "cell_type": "code",
   "execution_count": null,
   "metadata": {
    "pycharm": {
     "name": "#%%\n"
    },
    "tags": [
     "export"
    ]
   },
   "outputs": [],
   "source": [
    "# Note: this cell, tagged as \"export\", will become part of your agent\n",
    "def get_motor_left_matrix(shape: Tuple[int, int]) -> np.ndarray:\n",
    "    zeros = np.zeros(shape=shape, dtype='float32')\n",
    "    return zeros\n",
    "\n",
    "def get_motor_right_matrix(shape: Tuple[int, int])-> np.ndarray:\n",
    "    zeros = np.zeros(shape=shape, dtype='float32')\n",
    "    return zeros"
   ]
  },
  {
   "cell_type": "code",
   "execution_count": null,
   "metadata": {
    "pycharm": {
     "name": "#%%md\n"
    }
   },
   "outputs": [],
   "source": [
    "\n",
    "from notebooks import braitenberg02"
   ]
  },
  {
   "cell_type": "code",
   "execution_count": null,
   "metadata": {},
   "outputs": [],
   "source": [
    "b2"
   ]
  },
  {
   "cell_type": "code",
   "execution_count": null,
   "metadata": {},
   "outputs": [],
   "source": []
  }
 ],
 "metadata": {
  "celltoolbar": "Tags",
  "kernelspec": {
   "display_name": "",
   "language": "python",
   "name": ""
  },
  "language_info": {
   "codemirror_mode": {
    "name": "ipython",
    "version": 3
   },
   "file_extension": ".py",
   "mimetype": "text/x-python",
   "name": "python",
   "nbconvert_exporter": "python",
   "pygments_lexer": "ipython3",
   "version": "3.8.8"
  }
 },
 "nbformat": 4,
 "nbformat_minor": 1
}
