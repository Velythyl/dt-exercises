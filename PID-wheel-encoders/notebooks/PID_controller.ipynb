{
 "cells": [
  {
   "cell_type": "markdown",
   "metadata": {
    "tags": [
     "skip"
    ]
   },
   "source": [
    "<br />\n",
    "<p align=\"center\">\n",
    "  <img src=\"images/dtlogo.png\" alt=\"Logo\" width=\"111\" height=\"100\">\n",
    "\n",
    "  <h1 align=\"center\">PID controller</h1>\n",
    "</p>\n",
    "\n",
    "\n",
    "### Requirements:\n",
    "\n",
    "You need to .....\n",
    "\n",
    "1. simualtion track\n",
    "2. hardware track\n",
    "    - DB21M up and running\n",
    "    - 2 AprilTags\n",
    "\n",
    "### Intended outcomes:\n",
    "\n",
    "Calibrate the Duckiebot kinematic model using the data from the wheel encoders.\n",
    "\n",
    "### Steps:\n",
    "\n",
    "1. Theory  \n",
    "2. Approach\n",
    "3. Implementation\n",
    "4. Validation\n",
    "\n",
    "\n",
    "\n",
    "1. Theory -> Review odometry class\n",
    "2. Approach -> \n",
    "    - Use wheel encoders to estimate the pose of the DB using deadrecknonig approximation. \n",
    "    - Use estimate and ground truth to best fit\n",
    "\n",
    "3. Implementation ->\n",
    "    - Read the data from the wheel encoders \n",
    "        - Sim:\n",
    "        - HW :\n",
    "            \n",
    "    - Obtain the gorund truth from AprilTags\n",
    "\n",
    "\n",
    "4. Validation\n",
    "\n",
    "1. Theoretical understanding of the Duckiebot kinematic model, in particular what the parameters _R_ and _L_ represent.\n",
    "2. Approach:\n",
    "    - Wheel encoders and deadrecknonig\n",
    "    \n",
    "    - Straight path \n",
    "    - Curved path (e.g., sinusoidal)\n",
    "\n",
    "3. Validation of the resulting parameters.\n",
    "\n"
   ]
  },
  {
   "cell_type": "markdown",
   "metadata": {
    "tags": [
     "skip"
    ]
   },
   "source": [
    "## Let's start\n",
    "\n",
    "In this activity...\n",
    "\n",
    "**DO NOT CHANGE THE NAME OF THE FUNCTION**"
   ]
  },
  {
   "cell_type": "code",
   "execution_count": 21,
   "metadata": {
    "tags": [
     "export"
    ]
   },
   "outputs": [],
   "source": [
    "import numpy as np\n",
    "# Heading control\n",
    "def PIDController(v_0, theta_hat, prev_e, prev_int, delta_t):\n",
    "    \"\"\"\n",
    "    Args:\n",
    "        delta_phi_right (:double:) delta phi right.\n",
    "        delta_phi_left (:double:) delta phi left.\n",
    "        prev_e (:double:) previous error.\n",
    "        delta_t (:double:) delta time.\n",
    "    returns:\n",
    "        u (:double:) control command for omega.\n",
    "        current_e (:double:) current error.\n",
    "    \"\"\"\n",
    "    ## Set outside this function:\n",
    "    # gain = 0.45\n",
    "    # x0, y0, theta0 = [0, 0, 0]\n",
    "    \n",
    "    \n",
    "    # theta_ref = 30*pi/180 # has to be different from 0, because 0,0,0 are assumed as initial conditions\n",
    "    \n",
    "    # Dtheta = ((delta_phi_right - delta_phi_left)/2*L)*R # insert correct Dtheta function\n",
    "    \n",
    "    # theta_hat = theta_hat + Dtheta\n",
    "    \n",
    "    # e = theta_ref - theta_hat \n",
    "    \n",
    "    # e_int = prev_e + e*delta_t\n",
    "\n",
    "    # e_der = (e - prev_e)/delta_t\n",
    "    v_0=0.15\n",
    "\n",
    "    theta_ref = 70*np.pi/180\n",
    "\n",
    "    # error\n",
    "    e = theta_ref - theta_hat\n",
    "\n",
    "    # integral of the error\n",
    "    e_int = prev_int + e*delta_t\n",
    "\n",
    "    # antiwindup\n",
    "    e_int = max(min(e_int,2),-2)\n",
    "\n",
    "\n",
    "    # derivative of the error\n",
    "    e_der = (e - prev_e)/delta_t\n",
    "\n",
    "    Kp=2\n",
    "    Ki=0.001\n",
    "    Kd=0.15\n",
    "    \n",
    "    # PID controller for omega\n",
    "    omega = Kp*e + Ki*e_int + Kd*e_der\n",
    "    \n",
    "    u = [v_0, omega]\n",
    "    \n",
    "    # print(f\"\\n\\nDelta time : {delta_t} \\nE : {e} \\nE int : {e_int} \\nPrev e : {prev_e}\\nU : {u} \\nTheta : {theta_hat} \\n\")\n",
    "\n",
    "    \n",
    "    return u, e, e_int\n",
    "\n",
    "\n",
    "## Exercise: lateral position control \n",
    "\n",
    "# v_0 = u[0]\n",
    "# rosparam set /!hostname/kinematics_node/gain v_0\n",
    "\n",
    "\n",
    "# for the exercise: no longer heading control, but y direction control\n",
    "\n",
    "# challenge used to evaluate is LF\n",
    "# world is a straight lane (or whatever)\n",
    "# initial condition of the robot is in the opposite lane\n",
    "# (we are playing now with (d, theta))\n",
    "# d0 = -2 (whatever brings you in the opposite lane)\n",
    "# theta0 = whatever = 0\n",
    "# d_ref = 0 # (this means be at the center of the lane, as in regular lane following)\n",
    "# e = d_ref - dhat\n",
    "# (dhat is initialized with d0)\n",
    "# dhat = dlast + delta_d\n",
    "# theta = R/(2*L)*(delta_phi_right-delta_phi_left)\n",
    "# delta_d = R/2*(delta_phi_l + delta_phi_r)*cos(theta) #(double check cos)\n",
    "# v = gain = 0.5 (whatever)\n",
    "# omega = PID(e)\n",
    "# u = [v omega]\n",
    "\n",
    "\n",
    "\n",
    "# To get the exrecise done, what do students need to know? \n",
    "# ACTIVITY 1. Assume that if v_l = v_r, the robot goes straight. Why? because this is what the model we are using tells us. \n",
    "# In reality, this is not the case -> wheel calibration, i.e., find trim so that the robot goes kind of straight\n",
    "\n",
    "# ACTIVITY 2. We need R, L --> odometry calibration --> Nice to have least square approach, but manual measurement works fine as well\n",
    "\n",
    "# ACTIVITY 3. Deadreckoning model --> odometry-activity \n",
    "\n",
    "# ACTIVITY 4. Understand how PID works.. --> heading control\n",
    "\n",
    "# Exercise: use all the above together to do lateral position control. \n"
   ]
  },
  {
   "cell_type": "markdown",
   "metadata": {},
   "source": [
    "### Unit Test\n",
    "\n",
    "With this unit test you can check if your PID is converging, diverging, osscilating and so on. This is a macroscopic test, it could be that then on the real robot it will not perform as here!"
   ]
  },
  {
   "cell_type": "code",
   "execution_count": 22,
   "metadata": {},
   "outputs": [
    {
     "data": {
      "image/png": "[encoded data removed]",
      "text/plain": [
       "<Figure size 432x288 with 1 Axes>"
      ]
     },
     "metadata": {
      "needs_background": "light"
     },
     "output_type": "display_data"
    }
   ],
   "source": [
    "import matplotlib.pyplot as plt\n",
    "from unit_test import UnitTestPID\n",
    "plt.axis([0, 10, 0, 1])\n",
    "\n",
    "unit_test = UnitTestPID(PIDController, 0.2)\n",
    "unit_test.test()\n"
   ]
  },
  {
   "cell_type": "markdown",
   "metadata": {
    "tags": [
     "skip"
    ]
   },
   "source": [
    "### Build the Activity"
   ]
  },
  {
   "cell_type": "code",
   "execution_count": null,
   "metadata": {
    "tags": [
     "skip"
    ]
   },
   "outputs": [],
   "source": [
    "! cd .. && dts exercises build"
   ]
  },
  {
   "cell_type": "markdown",
   "metadata": {
    "tags": [
     "skip"
    ]
   },
   "source": [
    "### Run the activity on the Duckiebot\n",
    "\n",
    "This activity requires an interaction part, so you need to open three terminals.\n",
    "\n",
    "In the following steps is shown what has to be run in the two different terminals.\n"
   ]
  },
  {
   "cell_type": "markdown",
   "metadata": {
    "tags": [
     "skip"
    ]
   },
   "source": [
    "#### Terminal 1\n",
    "\n",
    "In the first terminal you have to run the exercises with the standard `dts exercises` command:"
   ]
  },
  {
   "cell_type": "code",
   "execution_count": null,
   "metadata": {
    "tags": [
     "skip"
    ]
   },
   "outputs": [],
   "source": [
    "! cd .. && dts exercises test --duckiebot_name ![DB_NAME] "
   ]
  },
  {
   "cell_type": "markdown",
   "metadata": {
    "tags": [
     "skip"
    ]
   },
   "source": [
    "#### Terminal 2\n",
    "\n",
    "In this terminal you have to open the `keyboard_control` in order to drive you Duckiebot.\n"
   ]
  },
  {
   "cell_type": "code",
   "execution_count": null,
   "metadata": {
    "tags": [
     "skip"
    ]
   },
   "outputs": [],
   "source": [
    "! dts keyboard_control ![DB_NAME]"
   ]
  },
  {
   "cell_type": "markdown",
   "metadata": {
    "tags": [
     "skip"
    ]
   },
   "source": [
    "#### Terminal 3\n",
    "\n",
    "In the third terminal you have to attach the container where the  activity is running. "
   ]
  },
  {
   "cell_type": "code",
   "execution_count": null,
   "metadata": {
    "tags": [
     "skip"
    ]
   },
   "outputs": [],
   "source": [
    "! docker -H ![DB_NAME].local exec -it agent /bin/bash"
   ]
  },
  {
   "cell_type": "markdown",
   "metadata": {
    "tags": [
     "skip"
    ]
   },
   "source": [
    "Now you are attached to the Docker container that is running on the robot. From this terminal launch the python script that allows you to proceed witht the calibration as shown below. You will be asked to place your Duckiebot on a lane and move it along a straight line using the `keyboard_control`."
   ]
  },
  {
   "cell_type": "code",
   "execution_count": null,
   "metadata": {
    "tags": [
     "skip"
    ]
   },
   "outputs": [],
   "source": [
    "python3 /code/exercise_ws/src/interaction_pkg/src/interaction_node.py"
   ]
  }
 ],
 "metadata": {
  "kernelspec": {
   "display_name": "Python 3",
   "language": "python",
   "name": "python3"
  },
  "language_info": {
   "codemirror_mode": {
    "name": "ipython",
    "version": 3
   },
   "file_extension": ".py",
   "mimetype": "text/x-python",
   "name": "python",
   "nbconvert_exporter": "python",
   "pygments_lexer": "ipython3",
   "version": "3.8.5"
  },
  "metadata": {
   "interpreter": {
    "hash": "31f2aee4e71d21fbe5cf8b01ff0e069b9275f58929596ceb00d14d90e3e16cd6"
   }
  }
 },
 "nbformat": 4,
 "nbformat_minor": 4
}
