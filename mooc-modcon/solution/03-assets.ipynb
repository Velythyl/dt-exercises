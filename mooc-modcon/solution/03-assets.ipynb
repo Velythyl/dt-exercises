{
 "cells": [
  {
   "cell_type": "code",
   "execution_count": 6,
   "metadata": {},
   "outputs": [],
   "source": [
    "%matplotlib inline\n",
    "import numpy as np\n",
    "import matplotlib.pyplot as  plt\n",
    "import matplotlib.patches as patches"
   ]
  },
  {
   "cell_type": "markdown",
   "metadata": {},
   "source": [
    "# PID"
   ]
  },
  {
   "cell_type": "markdown",
   "metadata": {},
   "source": [
    "Illustration of example #1\n",
    "\n",
    "**EXAMPLE: controlling robot from (0,0) at $0^{\\circ}$ to reach $y = 0.05$**\n",
    "\n",
    "Consider a robot at $(x,y)=(0,0)$ with $0^{\\circ}$ yaw angle. Assuming the robot is moving with a constant velocity $v = 0.1$m/s, design a PID controller for angular velocity $\\omega$ that can make the robot to reach $y = 0.05$ within 100 time steps where $dt = 0.1$."
   ]
  },
  {
   "cell_type": "code",
   "execution_count": 55,
   "metadata": {},
   "outputs": [
    {
     "data": {
      "image/png": "[encoded data removed]",
      "text/plain": [
       "<Figure size 432x288 with 1 Axes>"
      ]
     },
     "metadata": {
      "needs_background": "light"
     },
     "output_type": "display_data"
    }
   ],
   "source": [
    "x, y = 0, 0\n",
    "yaw = 0\n",
    "yt = 0.05\n",
    "\n",
    "# draw robot\n",
    "xmin, xmax = -0.1, 2.0\n",
    "ymin, ymax = -0.01, 0.06\n",
    "plt.scatter(x,y,s=200, c='orange') # robot body\n",
    "plt.arrow(x, y, dx=0.2, dy=0, width=0.001, head_length=0.1)\n",
    "plt.arrow(-1, yt, dx=5, dy=0, width=0.0000001, head_length=0.1, linestyle='--', color='red')\n",
    "plt.xlim([xmin, xmax])\n",
    "plt.ylim([ymin, ymax])\n",
    "plt.xlabel('x')\n",
    "plt.ylabel('y')\n",
    "plt.text(1.7, yt + 0.001, 'target y', color='red')\n",
    "plt.show()"
   ]
  },
  {
   "cell_type": "markdown",
   "metadata": {},
   "source": [
    "# Pure pursuit"
   ]
  },
  {
   "cell_type": "code",
   "execution_count": 143,
   "metadata": {},
   "outputs": [
    {
     "data": {
      "image/png": "[encoded data removed]",
      "text/plain": [
       "<Figure size 432x288 with 1 Axes>"
      ]
     },
     "metadata": {
      "needs_background": "light"
     },
     "output_type": "display_data"
    }
   ],
   "source": [
    "x, y = 0, 0\n",
    "yaw = 135\n",
    "yt = 0.05\n",
    "\n",
    "dy_dx = np.tan(np.deg2rad(yaw))\n",
    "dx = -0.007\n",
    "\n",
    "# draw robot\n",
    "# plt.figure(figsize=(20,20))\n",
    "xmin, xmax = -0.2, 2.0\n",
    "xmin, xmax = -0.02, 0.06\n",
    "ymin, ymax = -0.01, 0.06\n",
    "plt.scatter(x,y,s=200, c='orange') # robot body\n",
    "plt.arrow(x, y, dx=dx, dy=dy_dx * dx, width=0.001, head_length=0.002)\n",
    "# plt.arrow(x, y, dx=-0.2, dy=0.01, width=0.001, head_length=0.1)\n",
    "# plt.arrow(x, y, dx=-0.01, dy=0.01, width=0.005, head_length=0.01)\n",
    "plt.arrow(-1, yt, dx=5, dy=0, width=0.0000000000000000000000001, linestyle='--', color='red')\n",
    "plt.arrow(x, y, dx=5, dy=0, width=0.0000000000000000000000001, linestyle='--')\n",
    "a = patches.FancyArrowPatch((0.0075, 0.0), (-0.005, 0.005), \n",
    "                            linewidth=0.5, \n",
    "                            connectionstyle=\"arc3,rad=.5\",\n",
    "                            arrowstyle=\"simple, head_length=5.0, head_width=5.0, tail_width=1.0\"\n",
    "                            )\n",
    "plt.gca().add_patch(a)\n",
    "plt.text(0.0075, 0.001, 'θ=135 deg')\n",
    "\n",
    "plt.xlim([xmin, xmax])\n",
    "plt.ylim([ymin, ymax])\n",
    "plt.xlabel('x')\n",
    "plt.ylabel('y')\n",
    "plt.text(0.045, yt + 0.001, 'target y', color='red')\n",
    "plt.gca().set_aspect('equal', adjustable='box')\n",
    "plt.show()"
   ]
  },
  {
   "cell_type": "code",
   "execution_count": null,
   "metadata": {},
   "outputs": [],
   "source": []
  }
 ],
 "metadata": {
  "kernelspec": {
   "display_name": "Python 3",
   "language": "python",
   "name": "python3"
  },
  "language_info": {
   "codemirror_mode": {
    "name": "ipython",
    "version": 3
   },
   "file_extension": ".py",
   "mimetype": "text/x-python",
   "name": "python",
   "nbconvert_exporter": "python",
   "pygments_lexer": "ipython3",
   "version": "3.6.9"
  }
 },
 "nbformat": 4,
 "nbformat_minor": 4
}
