{
 "cells": [
  {
   "cell_type": "markdown",
   "metadata": {},
   "source": [
    "<p style=\"text-align: right\">\n",
    "  <img src=\"images/dtlogo.png\" alt=\"Logo\" width=\"250\">\n",
    "</p>"
   ]
  },
  {
   "cell_type": "markdown",
   "metadata": {
    "tags": [
     "skip"
    ]
   },
   "source": [
    "# 💻 🚙 06 - PID: Heading control\n",
    "\n",
    "A controller outputs commands that can be executed by our robot to achieve a certain goal. For example, in the case of the Duckiebot, the control signals are the linear velocity $v$ and angular velocity $\\omega$ of the robot. \n",
    "\n",
    "The **P**roportional-**I**ntegral-**D**erivative (PID) controller is an example of a feedback controller where we use an output ($y_t$) of the system to measure tracking errors ($e_t$), that evolve in time, from some reference signal ($r_t$) to alter the control signals ($u_t$), so that the errors are driven to lower values (ideally zero) in time.\n",
    "\n",
    "<figure>\n",
    "  <div style=\"text-align:center;\">\n",
    "  <img src=\"images/pid-control/pid-control-diagram.jpg\" alt=\"pid-loop-2\" style=\"width: 300px;\"/>\n",
    "  <figcaption>A PID control loop.</figcaption>\n",
    "  </div>\n",
    "</figure>\n",
    "\n",
    "Consider a Duckiebot driving in the middle of a road with a constant linear velocity. Let's say our goal is to make sure the robot stays in the middle of the lane by adjusting its angular velocity. Intuitively, whenever the robot deviates from the middle of the lane, we will adjust the angular velocity so the robot turns toward the middle of the lane. The question is: by how much?\n",
    "\n",
    "The name proportional-integral-derivative comes from the fact that the controller adjusts the control signals proportionally to the error at every time instant, while also considers the integral of the error over time (i.e., the accumulation, or sum, of error over time), and the derivative of the error at each time step (i.e., the rate of change of the error over time). The control command is calculated by considering the combination of these three components:\n",
    "\n",
    "$$\n",
    "u_t = k_p e(t) + k_i \\int_0^t e(\\tau) d \\tau + k_d \\frac{d e_t}{dt},\n",
    "$$\n",
    "\n",
    "where $k_p$, $k_i$, and $k_d$ denote the proportional, integral, and derivative coefficients of the controller, respectively. \n",
    "\n",
    "The PID control problem is to determine values for these parameters (e.g., via trial and error) until the closed loop system performs reasonably well. Typically (but it depends strongly on the complexity of the system):\n",
    "\n",
    "- Increasing $k_p$ will decrease the the time it takes for the system to approach the reference point (i.e., rise time), but at the risk of overshooting. \n",
    "- Increasing $k_d$ will help to decrease this overshooting by preventing the robot from moving too quickly in a direction that increases the error. \n",
    "- Increasing $k_i$ will help us to eliminate the steady-state error (i.e., the remaining error that we have when the system has converged), and compensate for unexpected external stimuli during operation.\n",
    "\n",
    "For example, we can start by only adjusting $k_p$ while keeping $k_i=0$ and $k_d=0$ until the controller is somewhat able to reach the target. We can then fix $k_p$ at this value, and start adjusting $k_d$. Once we found a good value of $k_d$, that reduces the oscillations without slowing the system response down too much, we can proceed to adjust $k_i$ as needed to mitigate steady state errors.\n",
    "\n",
    "While the above approach to tune PID controller may work in practice, there is **no guarantee** that our controller will be stable (e.g., our robot may oscillate or even completely diverge from the reference point). \n",
    "\n",
    "There are many approaches for designing PID controllers in a formal way. Talking about them though would require introducing more advanced system modeling methods (e.g., linearization, linear time-invariant systems, state-space representations, transfer functions), as well as analysis methods for dyanamic systems (e.g., Bode diagrams, Nyquist plots, root locus) and synthesis techniques (e.g., loop shaping, pole placement), for actually determining the coefficients. There is a vast literature on PID control, and new variations on the theme are published every year although it is already a very established method. A video introduction to control systems can be found online, e.g., in the [Control Systems I](https://video.ethz.ch/lectures/d-mavt/2018/autumn/151-0591-00L/6a74fd84-5047-4639-b640-3ab2e6937e8a.html) course held at ETH Zurich.   \n",
    "\n",
    "The popularity of PID control is due to the fact, amongst other factors, that these formal methods are not necessary to design a PID controller. \"Rule of thumb\" methods such as the famous Ziegler-Nichols can help us to tune our PID controller, but trail and error (or, \"synthesis by iterations\", a. k. a. \"tweak until death\") works, too!\n",
    "\n",
    "Let's go ahead and design a PID controller!"
   ]
  },
  {
   "cell_type": "markdown",
   "metadata": {
    "tags": [
     "skip"
    ]
   },
   "source": [
    "## Let's get started\n",
    "\n",
    "In this activity we will design a proportional, integrative, derivative (PID) controller to regulate the heading ($\\theta_t$) of a Duckiebot, while it is driving at a constant linear speed ($v_0$). \n",
    "\n",
    "Recalling the general PID control loop above, we consider the following:\n",
    "\n",
    "* $r_t = \\theta_{ref,t} = \\theta_{ref}$: the reference signal is a constant angle, expressed in radians\n",
    "* $\\hat y_t = \\hat \\theta_t$: the controlled variable is the heading of the Duckiebot. We will use the odometry model deigned in the [odometry activity](./05-odometry-activity.ipynb)\n",
    "\n",
    "The objective will be to determine the values of $k_p, k_i, k_d$ such that the \n",
    "\n",
    "\n",
    "tracking error $e_t = \\theta_{ref,t} - \\hat \\theta_t$ goes to zero "
   ]
  },
  {
   "cell_type": "markdown",
   "metadata": {},
   "source": [
    "**DO NOT CHANGE THE NAME OF THE FUNCTION**"
   ]
  },
  {
   "cell_type": "code",
   "execution_count": 2,
   "metadata": {
    "tags": [
     "export"
    ]
   },
   "outputs": [],
   "source": [
    "import numpy as np\n",
    "# Heading control\n",
    "\n",
    "# v_0=0.15 # TODO: Vincenzo make it tunable online kind of like rosparam set\n",
    "# theta_ref = 70*np.pi/180 # TODO: Vincenzo make it tunable online kind of like rosparam set\n",
    "\n",
    "\n",
    "def PIDController(v_0, theta_hat, prev_e, prev_int, delta_t): #add theta_ref as input\n",
    "    \"\"\"\n",
    "    Args:\n",
    "        delta_phi_right (:double:) delta phi right.\n",
    "        delta_phi_left (:double:) delta phi left.\n",
    "        prev_e (:double:) previous error.\n",
    "        delta_t (:double:) delta time.\n",
    "    returns:\n",
    "        u (:double:) control command for omega and v_0 (constant).\n",
    "        current_e (:double:) current tracking error.\n",
    "    \"\"\"\n",
    "    \n",
    "    v_0=0.15 # TODO: Vincenzo make it tunable online kind of like rosparam set\n",
    "\n",
    "    theta_ref = 70*np.pi/180 # TODO: Vincenzo make it tunable online kind of like rosparam set\n",
    "    \n",
    "    # error\n",
    "    e = theta_ref - theta_hat\n",
    "\n",
    "    # integral of the error\n",
    "    e_int = prev_int + e*delta_t\n",
    "\n",
    "    # anti-windup\n",
    "    e_int = max(min(e_int,2),-2)\n",
    "\n",
    "\n",
    "    # derivative of the error\n",
    "    e_der = (e - prev_e)/delta_t\n",
    "\n",
    "    Kp=2\n",
    "    Ki=0.0\n",
    "    Kd=0.0\n",
    "\n",
    "    # PID controller for omega\n",
    "    omega = Kp*e + Ki*e_int + Kd*e_der\n",
    "    \n",
    "    u = [v_0, omega]\n",
    "    \n",
    "    # print(f\"\\n\\nDelta time : {delta_t} \\nE : {e} \\nE int : {e_int} \\nPrev e : {prev_e}\\nU : {u} \\nTheta : {theta_hat} \\n\")\n",
    "\n",
    "    \n",
    "    return u, e, e_int\n",
    "\n",
    "\n",
    "## Exercise: lateral position control \n",
    "\n",
    "# v_0 = u[0]\n",
    "# rosparam set /!hostname/kinematics_node/gain v_0\n",
    "\n",
    "\n",
    "# for the exercise: no longer heading control, but y direction control\n",
    "\n",
    "# challenge used to evaluate is LF\n",
    "# world is a straight lane (or whatever)\n",
    "# initial condition of the robot is in the opposite lane\n",
    "# (we are playing now with (d, theta))\n",
    "# d0 = -2 (whatever brings you in the opposite lane)\n",
    "# theta0 = whatever = 0\n",
    "# d_ref = 0 # (this means be at the center of the lane, as in regular lane following)\n",
    "# e = d_ref - dhat\n",
    "# (dhat is initialized with d0)\n",
    "# dhat = dlast + delta_d\n",
    "# theta = R/(2*L)*(delta_phi_right-delta_phi_left)\n",
    "# delta_d = R/2*(delta_phi_l + delta_phi_r)*cos(theta) #(double check cos)\n",
    "# v = gain = 0.5 (whatever)\n",
    "# omega = PID(e)\n",
    "# u = [v omega]\n",
    "\n",
    "\n",
    "\n",
    "# To get the exrecise done, what do students need to know? \n",
    "# ACTIVITY 1. Assume that if v_l = v_r, the robot goes straight. Why? because this is what the model we are using tells us. \n",
    "# In reality, this is not the case -> wheel calibration, i.e., find trim so that the robot goes kind of straight\n",
    "\n",
    "# ACTIVITY 2. We need R, L --> odometry calibration --> Nice to have least square approach, but manual measurement works fine as well\n",
    "\n",
    "# ACTIVITY 3. Deadreckoning model --> odometry-activity \n",
    "\n",
    "# ACTIVITY 4. Understand how PID works.. --> heading control\n",
    "\n",
    "# Exercise: use all the above together to do lateral position control. \n"
   ]
  },
  {
   "cell_type": "markdown",
   "metadata": {},
   "source": [
    "### Unit Test\n",
    "\n",
    "With this unit test you can check if your PID is converging, diverging, osscilating and so on. This is a macroscopic test, it could be that then on the real robot it will not perform as here!"
   ]
  },
  {
   "cell_type": "code",
   "execution_count": 3,
   "metadata": {},
   "outputs": [
    {
     "data": {
      "image/png": "[encoded data removed]",
      "text/plain": [
       "<Figure size 432x288 with 1 Axes>"
      ]
     },
     "metadata": {
      "needs_background": "light"
     },
     "output_type": "display_data"
    }
   ],
   "source": [
    "import matplotlib.pyplot as plt\n",
    "from unit_test import UnitTestPID\n",
    "plt.axis([0, 10, 0, 1])\n",
    "\n",
    "# This is for quick testing purposes only - you can try different values of v_0 and R, L or the ones you determined before. Try to change R, L for fun.\n",
    "v_0 = 0.2\n",
    "R = 0.033\n",
    "L = 0.108\n",
    "\n",
    "unit_test = UnitTestPID(PIDController, v_0) # TODO: Vincenzo - make R, L inputs to this unit testing function\n",
    "unit_test.test()\n",
    "\n",
    "# TODO: Vincenzo - simply visualize y axis label in degrees \n",
    "# TODO: Add a second graph where you show input to the wheels (u_l, u_r) in time\n",
    "# omega -> u_l, u_r (https://github.com/duckietown/dt-car-interface/blob/daffy/packages/dagu_car/src/kinematics_node.py line 248) \n"
   ]
  },
  {
   "cell_type": "markdown",
   "metadata": {
    "tags": [
     "skip"
    ]
   },
   "source": [
    "### Build the Activity"
   ]
  },
  {
   "cell_type": "code",
   "execution_count": null,
   "metadata": {
    "tags": [
     "skip"
    ]
   },
   "outputs": [],
   "source": [
    "! cd .. && dts exercises build"
   ]
  },
  {
   "cell_type": "markdown",
   "metadata": {
    "tags": [
     "skip"
    ]
   },
   "source": [
    "### Run the activity on the Duckiebot\n",
    "\n",
    "**TODO: Vincenzo - write operation manual (how to execute in simulation and on real robot)** \n",
    "\n",
    "This activity requires an interaction part, so you need to open three terminals.\n",
    "\n",
    "In the following steps is shown what has to be run in the two different terminals.\n"
   ]
  },
  {
   "cell_type": "markdown",
   "metadata": {
    "tags": [
     "skip"
    ]
   },
   "source": [
    "#### Terminal 1\n",
    "\n",
    "In the first terminal you have to run the exercises with the standard `dts exercises` command:"
   ]
  },
  {
   "cell_type": "code",
   "execution_count": null,
   "metadata": {
    "tags": [
     "skip"
    ]
   },
   "outputs": [],
   "source": [
    "! cd .. && dts exercises test --duckiebot_name ![DB_NAME] "
   ]
  },
  {
   "cell_type": "markdown",
   "metadata": {
    "tags": [
     "skip"
    ]
   },
   "source": [
    "#### Terminal 2\n",
    "\n",
    "In this terminal you have to open the `keyboard_control` in order to drive you Duckiebot.\n"
   ]
  },
  {
   "cell_type": "code",
   "execution_count": null,
   "metadata": {
    "tags": [
     "skip"
    ]
   },
   "outputs": [],
   "source": [
    "! dts keyboard_control ![DB_NAME]"
   ]
  },
  {
   "cell_type": "markdown",
   "metadata": {
    "tags": [
     "skip"
    ]
   },
   "source": [
    "#### Terminal 3\n",
    "\n",
    "In the third terminal you have to attach the container where the  activity is running. "
   ]
  },
  {
   "cell_type": "code",
   "execution_count": null,
   "metadata": {
    "tags": [
     "skip"
    ]
   },
   "outputs": [],
   "source": [
    "! docker -H ![DB_NAME].local exec -it agent /bin/bash"
   ]
  }
 ],
 "metadata": {
  "kernelspec": {
   "display_name": "Python 3",
   "language": "python",
   "name": "python3"
  },
  "language_info": {
   "codemirror_mode": {
    "name": "ipython",
    "version": 3
   },
   "file_extension": ".py",
   "mimetype": "text/x-python",
   "name": "python",
   "nbconvert_exporter": "python",
   "pygments_lexer": "ipython3",
   "version": "3.8.5"
  },
  "metadata": {
   "interpreter": {
    "hash": "31f2aee4e71d21fbe5cf8b01ff0e069b9275f58929596ceb00d14d90e3e16cd6"
   }
  }
 },
 "nbformat": 4,
 "nbformat_minor": 4
}
