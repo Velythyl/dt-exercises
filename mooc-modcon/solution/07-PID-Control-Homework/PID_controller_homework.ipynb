{
 "cells": [
  {
   "cell_type": "markdown",
   "metadata": {},
   "source": [
    "<p style=\"text-align: right\">\n",
    "  <img src=\"../images/dtlogo.png\" alt=\"Logo\" width=\"200\">\n",
    "</p>"
   ]
  },
  {
   "cell_type": "markdown",
   "metadata": {
    "tags": []
   },
   "source": [
    "# 💻 PID controller homework"
   ]
  },
  {
   "cell_type": "markdown",
   "metadata": {
    "tags": []
   },
   "source": [
    "In this exercise you will have to write the code for a PID controller tasked to command the angular speed of your Duckiebot to drive it from a given initial condition to a lateral position of $y_{ref} = -0.1 \\text{m}$. \n",
    "\n",
    "Your robot will have to rely on its own odometry to estimate its current position.\n",
    "\n",
    "**Note**: the function(s) used to compute the odometry will be taken from your previous answers in the [odometry activity](../05-Odometry/odometry_activity.ipynb). Make sure you're happy about them, too!\n",
    "\n",
    "The Duckiebot's speed $v_0$ is constant and given. \n",
    "\n",
    "Good luck!"
   ]
  },
  {
   "cell_type": "code",
   "execution_count": 1,
   "metadata": {
    "tags": [
     "export"
    ]
   },
   "outputs": [],
   "source": [
    "import numpy as np"
   ]
  },
  {
   "cell_type": "code",
   "execution_count": 1,
   "metadata": {
    "tags": [
     "export"
    ]
   },
   "outputs": [],
   "source": [
    "# write the PID controller function for y postion control.\n",
    "\n",
    "# **DO NOT CHANGE THE NAME OF THE FUNCTION**, it will break things\n",
    "\n",
    "def PIDController(\n",
    "    v_0,\n",
    "    y_ref,\n",
    "    y_hat, \n",
    "    prev_e_y, \n",
    "    prev_int_y, \n",
    "    delta_t):\n",
    "    \"\"\"\n",
    "    Args:\n",
    "        v_0 (:double:) speed (can be changed setting up a v_0 variable).\n",
    "        y_hat (:double:) the current estiamted pose along y.\n",
    "        prev_e_y (:double:) previous error along y with respect to the setpoint.\n",
    "        prev_int_y (:double:) previous integral error term (useful fo the integral action).\n",
    "        delta_t (:double:) delta time.\n",
    "    returns:\n",
    "        u (:double:) control command for omega.\n",
    "        current_e (:double:) current error.\n",
    "        current_int_e (:double:) current integral error.\n",
    "    \"\"\"\n",
    "    \n",
    "    # Error along x\n",
    "\n",
    "\n",
    "    # error\n",
    "    e_y = y_ref - y_hat\n",
    "\n",
    "    # integral of the error\n",
    "    e_int_y = prev_int_y + e_y*delta_t  \n",
    "    \n",
    "    # antiwindup\n",
    "    e_int_y = max(min(e_int_y,1),-1)\n",
    "    \n",
    "\n",
    "    # derivative of the error\n",
    "    e_der_y = (e_y - prev_e_y)/delta_t\n",
    "\n",
    "    # PID parameters\n",
    "\n",
    "    Kp_y= 2\n",
    "    Ki_y= 0.3\n",
    "    Kd_y= 100\n",
    "    \n",
    "    # PID controller for omega\n",
    "    omega = Kp_y*e_y + Ki_y*e_int_y + Kd_y*e_der_y\n",
    "    \n",
    "    u = [v_0/2, omega]\n",
    "    \n",
    "    #print(f\"\\n\\nDelta time : {delta_t} \\nE : {e_y} \\nE int : {e_int_y} \\nPrev e : {e_der_y}\\nU : {u} \\nX_hat : {y_hat} \\n\")\n",
    "    print(f\"\\n\\nDelta time : {delta_t} \\nE : {e_y} \\ne_int : {e_int_y} \\ne_der : {e_der_y} \\nU : {u} \\ny_hat: {y_hat} \\n\")\n",
    "\n",
    "    \n",
    "    return u, e_y, e_int_y\n"
   ]
  },
  {
   "cell_type": "markdown",
   "metadata": {},
   "source": [
    "### Unit Test\n",
    "\n",
    "With this unit test you can check if your PID is converging, diverging, osscilating and so on. This is a macroscopic test, it could be that then on the real robot it will not perform as here!"
   ]
  },
  {
   "cell_type": "code",
   "execution_count": 2,
   "metadata": {},
   "outputs": [
    {
     "ename": "ModuleNotFoundError",
     "evalue": "No module named 'unit_test'",
     "output_type": "error",
     "traceback": [
      "\u001b[0;31m---------------------------------------------------------------------------\u001b[0m",
      "\u001b[0;31mModuleNotFoundError\u001b[0m                       Traceback (most recent call last)",
      "\u001b[0;32m<ipython-input-2-5e3880f777f5>\u001b[0m in \u001b[0;36m<module>\u001b[0;34m\u001b[0m\n\u001b[1;32m      1\u001b[0m \u001b[0;32mimport\u001b[0m \u001b[0mmatplotlib\u001b[0m\u001b[0;34m.\u001b[0m\u001b[0mpyplot\u001b[0m \u001b[0;32mas\u001b[0m \u001b[0mplt\u001b[0m\u001b[0;34m\u001b[0m\u001b[0;34m\u001b[0m\u001b[0m\n\u001b[0;32m----> 2\u001b[0;31m \u001b[0;32mfrom\u001b[0m \u001b[0munit_test\u001b[0m \u001b[0;32mimport\u001b[0m \u001b[0mUnitTestPositionPID\u001b[0m\u001b[0;34m\u001b[0m\u001b[0;34m\u001b[0m\u001b[0m\n\u001b[0m\u001b[1;32m      3\u001b[0m \u001b[0;34m\u001b[0m\u001b[0m\n\u001b[1;32m      4\u001b[0m \u001b[0;31m# Write here the values of the kinematics parameters you calculated during the activities.\u001b[0m\u001b[0;34m\u001b[0m\u001b[0;34m\u001b[0m\u001b[0;34m\u001b[0m\u001b[0m\n\u001b[1;32m      5\u001b[0m \u001b[0;31m# This test will give you an idea of the behavior of the controller you wrote above.\u001b[0m\u001b[0;34m\u001b[0m\u001b[0;34m\u001b[0m\u001b[0;34m\u001b[0m\u001b[0m\n",
      "\u001b[0;31mModuleNotFoundError\u001b[0m: No module named 'unit_test'"
     ]
    }
   ],
   "source": [
    "import matplotlib.pyplot as plt\n",
    "from unit_test import UnitTestPositionPID\n",
    "\n",
    "# Write here the values of the kinematics parameters you calculated during the activities.\n",
    "# This test will give you an idea of the behavior of the controller you wrote above.\n",
    "# Try to play with the parameters, change R, the baseline all the PID variables,\n",
    "# What change in the resulting graphs? Why?\n",
    "\n",
    "R = 0.033\n",
    "baseline = 0.108\n",
    "gain = 0.45\n",
    "trim = 0.0\n",
    "\n",
    "# unit test input R, baseline, v_0, gain, trim, PIDController\n",
    "unit_test = UnitTestPositionPID(R,baseline,gain,trim,PIDController) # TODO: Vincenzo - make R, L inputs to this unit testing function\n",
    "unit_test.test()\n"
   ]
  },
  {
   "cell_type": "markdown",
   "metadata": {
    "tags": [
     "skip"
    ]
   },
   "source": [
    "### Build the Activity"
   ]
  },
  {
   "cell_type": "code",
   "execution_count": null,
   "metadata": {
    "tags": [
     "skip"
    ]
   },
   "outputs": [],
   "source": [
    "! cd .. && dts exercises build"
   ]
  },
  {
   "cell_type": "markdown",
   "metadata": {
    "tags": [
     "skip"
    ]
   },
   "source": [
    "### Run the activity on the Duckiebot\n",
    "\n"
   ]
  },
  {
   "cell_type": "markdown",
   "metadata": {
    "tags": [
     "skip"
    ]
   },
   "source": [
    "Open the terminal, navigate into the exercise folder\n",
    "In the first terminal you have to run the exercises with the standard `dts exercises` command:"
   ]
  },
  {
   "cell_type": "code",
   "execution_count": null,
   "metadata": {
    "tags": [
     "skip"
    ]
   },
   "outputs": [],
   "source": [
    "! cd .. && dts exercises test --duckiebot_name ![DB_NAME] "
   ]
  },
  {
   "cell_type": "code",
   "execution_count": null,
   "metadata": {
    "tags": [
     "skip"
    ]
   },
   "outputs": [],
   "source": [
    "! dts keyboard_control ![DB_NAME]"
   ]
  },
  {
   "cell_type": "markdown",
   "metadata": {
    "tags": [
     "skip"
    ]
   },
   "source": [
    "#### Terminal 3\n",
    "\n",
    "In the third terminal you have to attach the container where the  activity is running. "
   ]
  },
  {
   "cell_type": "markdown",
   "metadata": {
    "tags": [
     "skip"
    ]
   },
   "source": [
    "#### Terminal 2\n",
    "\n",
    "In this terminal you have to open the `keyboard_control` in order to drive you Duckiebot.\n"
   ]
  },
  {
   "cell_type": "code",
   "execution_count": null,
   "metadata": {
    "tags": [
     "skip"
    ]
   },
   "outputs": [],
   "source": [
    "! docker -H ![DB_NAME].local exec -it agent /bin/bash"
   ]
  },
  {
   "cell_type": "markdown",
   "metadata": {
    "tags": [
     "skip"
    ]
   },
   "source": [
    "Now you are attached to the Docker container that is running on the robot. From this terminal launch the python script that allows you to proceed witht the calibration as shown below. You will be asked to place your Duckiebot on a lane and move it along a straight line using the `keyboard_control`."
   ]
  },
  {
   "cell_type": "code",
   "execution_count": null,
   "metadata": {
    "tags": [
     "skip"
    ]
   },
   "outputs": [],
   "source": [
    "python3 /code/exercise_ws/src/interaction_pkg/src/interaction_node.py"
   ]
  }
 ],
 "metadata": {
  "kernelspec": {
   "display_name": "Python 3",
   "language": "python",
   "name": "python3"
  },
  "language_info": {
   "codemirror_mode": {
    "name": "ipython",
    "version": 3
   },
   "file_extension": ".py",
   "mimetype": "text/x-python",
   "name": "python",
   "nbconvert_exporter": "python",
   "pygments_lexer": "ipython3",
   "version": "3.8.5"
  },
  "metadata": {
   "interpreter": {
    "hash": "31f2aee4e71d21fbe5cf8b01ff0e069b9275f58929596ceb00d14d90e3e16cd6"
   }
  }
 },
 "nbformat": 4,
 "nbformat_minor": 4
}
