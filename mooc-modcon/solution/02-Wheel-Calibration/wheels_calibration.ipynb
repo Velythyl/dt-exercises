{
 "cells": [
  {
   "cell_type": "markdown",
   "metadata": {},
   "source": [
    "<p style=\"text-align: right\">\n",
    "  <img src=\"../images/dtlogo.png\" alt=\"Logo\" width=\"200\">\n",
    "</p>"
   ]
  },
  {
   "cell_type": "markdown",
   "metadata": {
    "tags": [
     "skip"
    ]
   },
   "source": [
    "# 🚙 02 - Wheel Calibration\n",
    "\n",
    "<!--\n",
    "💻 🚙\n",
    "-->\n",
    "\n",
    "In this activity we will calibrate the motor / wheel assemblies of our robots by determining two calibration parameters, to ensure that:\n",
    "\n",
    "1. Duckiebots go (reasonably) straight when commanded to do so, and\n",
    "2. the wheels do not slip. \n",
    "\n",
    "You will need the Duckietown hardware to proceed. If you do not have a Duckiebot and Duckietown, proceed to the next activity: the [wheel encoders tutorial](../04-Wheel-Encoders-Tutorial/wheel_encoders_tutorial.ipynb)."
   ]
  },
  {
   "cell_type": "markdown",
   "metadata": {
    "tags": [
     "skip"
    ]
   },
   "source": [
    "## Motivation\n",
    "\n",
    "We have derived a model of the Duckiebot's motors and kinematics:\n",
    "\n",
    "<p style=\"text-align:center;\">\n",
    "<img src=\"../images/wheel-calibration/model.png\" alt=\"Drawing\" style=\"width: 500px;\"/>\n",
    "</p>\n",
    "\n",
    "To obtain it, we introduced simplifying assumptions: \n",
    "\n",
    "1. The robot is symmetric along the the longitudinal axis;\n",
    "2. The wheels do not slip.\n",
    "\n",
    "Unfortunately, neither of these two assumptions really holds in practice. As a result: \n",
    "\n",
    "1. The robot will not drive straight when receiving equal commands to the wheels;\n",
    "2. The wheels (might) slip. \n",
    "\n",
    "In this activity we will calibrate the wheels to mitigate these undesired effects."
   ]
  },
  {
   "cell_type": "markdown",
   "metadata": {},
   "source": [
    "## Approach\n",
    "\n",
    "Let's look at the relationship we derived between the voltage provided to each motors and the resulting angular velocity of the wheel:\n",
    "\n",
    "$$ V_t = \\left( R\\frac{b}{K_i} + K_b \\right) \\dot \\phi_t $$\n",
    "\n",
    "The coefficient is a function of the wheel radius and the motor constants, which are difficult to estimate. We therefore lump all terms in a single unknown motor coefficient ($m$). Writing the same for right and left wheels, we get two motor coefficients to estimate: $m_l$ and $m_r$. \n",
    "\n",
    "To provide some physical insight, we reparametrize these two unknowns in two physically meaningful quantities, the _gain_ ($g$) and _trim_ ($t$), so that the relation can be thought as:\n",
    "\n",
    "$$ V_{r,t} = \\left( g + t \\right) \\dot \\phi_{r,t} $$\n",
    "$$ V_{l,t} = \\left( g - t \\right) \\dot \\phi_{l,t} $$\n",
    "\n",
    "In this way we always have two parameters to find, but we know that increasing (decreasing) the gain will make the robot go faster (slower), while adjusting the trim value will correct asymmetries in the driving. "
   ]
  },
  {
   "cell_type": "markdown",
   "metadata": {},
   "source": [
    "## Calibrating the gain ($g$)\n",
    "\n",
    "The gain parameter can have any value betwen 0 and 1. The default is set as 1. \n",
    "\n",
    "The objective of this first section is to determine a value of the gain that works well for your Duckiebot. There isn't a right or wrong number, the best value will vary depending on the desired driving experience. \n",
    "\n",
    "As a rule of thumb, we will want to set the gain for our robot to the highest value that _does not make the wheels slip_. \n",
    "\n",
    "Note that slippage will depend on the surface you drive your Duckiebot on, so we suggest to calibrate the gain while driving on the Duckietown tiles. \n",
    "\n",
    "Before starting the procedure: \n",
    "\n",
    "1. Make sure your Duckiebot is powered on and connected to the network. You can verify this by accessing the Dashboard > Robot page and visualizing live statistics, and / or by pinging the Duckiebot from your computer. \n",
    "2. Have your Duckietown built (at least, 3-4 tiles arranged in a straight). "
   ]
  },
  {
   "cell_type": "markdown",
   "metadata": {},
   "source": [
    "### Gain calibration procedure\n",
    "\n",
    "1. Place your powered on Duckiebot on your Duckietown\n",
    "\n",
    "2. Open a terminal on your computer and type:\n",
    "\n",
    "       dts exercises test -b ROBOTNAME\n",
    "</br>\n",
    "\n",
    "3. Wait for the instance to finish initializing, then scroll up in the terminal until you find the VNC localhost URL:\n",
    "\n",
    "       `INFO:dts: VNC running at http://localhost:8087/`\n",
    "</br>    \n",
    "\n",
    "4. Open a browser and navigate to that URL. \n",
    "\n",
    "5. Connect to VNC and open the virtual joystick and a terminal by double-clicking on the respective desktop icons, \n",
    "   \n",
    "6. The default value of the gain is set at 1. You can verify this yourself by either typing:\n",
    "\n",
    "       rosparam get /ROBOTNAME/kinematics_node/gain\n",
    "\n",
    "in the terminal (and pressing ENTER), or by navigating to your Dashboard > File Manager > Calibrations > Kinematics and opening the file `default.yaml`.\n",
    "    \n",
    "7. Select the virtual joystick you previously opened in VNC, and drive your robot on the Duckietown. Bring it on a tour, try all movements (forward, back, left and right turns). Notice if the wheels are slipping. You can set a new value for the gain with:\n",
    "\n",
    "       rosparam set /ROBOTNAME/kinematics_node/gain gain-value\n",
    "\n",
    "where `gain-value` is a number bewteen 0 and 1. The lower the number, the slower the robot will go and wheels will slip less.\n",
    "\n",
    "8. Re-click on the joypad, and bring your Duckiebot on another tour. You shold observe a different behavior consistent with the new gain value.\n",
    "\n",
    "You can reiterate this process until you find a value that works for you.\n",
    "\n",
    "#### Save the new gain\n",
    "\n",
    "Make sure to save your new gain! You can do so by typing, always in the same VNC terminal: \n",
    "\n",
    "    rosservice call /ROBOTNAME/kinematics_node/save_calibration\n",
    "\n",
    "#### Final check to make sure it’s stored\n",
    "\n",
    "You can verify that the new gain value has been saved on your Duckiebot by opening the Dashboard > File Manager > Calibrations > Kinematics page. \n",
    "\n",
    "You should find a file named `ROBOTNAME.yaml` in addition to the `default.yaml`. Double click on it and verify that the gain value is indeed the one you chose. \n",
    "\n",
    "<!--\n",
    "\n",
    "#### Curious?\n",
    "\n",
    "rosparam list /argo/kinematics_node/\n",
    "\n",
    "-->"
   ]
  },
  {
   "cell_type": "markdown",
   "metadata": {},
   "source": [
    "## Calibrating the trim ($t$)\n",
    "\n",
    "This procedure is similar to that of calibrating the gain. \n",
    "\n",
    "\n",
    "### Trim calibration procedure \n",
    "\n",
    "1. Follow steps 1. to 5. of the Gain calibration procedure.\n",
    "2. Place your Duckiebot on a lane, as shown below:\n",
    "\n",
    "<p style=\"text-align:center;\">\n",
    "<img src=\"../images/wheel-calibration/wheel-calib-setup.jpg\" alt=\"Drawing\" style=\"width: 200px;\"/>\n",
    "</p>\n",
    "\n",
    "3. The default value of the trim is 0. The trim can be set between -1 and 1. You can verify your current trim by opening a terminal in VNC and typing: \n",
    "\n",
    "       rosparam get /ROBOTNAME/kinematics_node/trim\n",
    "       \n",
    "4. Select the virtual joystick (arrow-pad) in VNC and drive straight (press only ⬆️) for roughly 2 meters (3 tiles)\n",
    "\n",
    "5. Measure how distant the robot ended from the yellow line. If it's more than 10cm, try adjusting your trim:\n",
    "\n",
    "    * Negative trim: steer towards right\n",
    "    * Positive trim: steer towards left\n",
    "\n",
    "\n",
    "6. Iterate the procedure until satisfaction. Note that you will never get a perfect behavior, and perfection is not necessary either, thanks to feedback control!\n",
    "\n",
    "Note: if you happen to remove the wheels of the Duckiebot for any reason at a later point in time, you might have to re-calibrate your trim value. \n",
    "\n",
    "### Saving the new trim value\n",
    "\n",
    "Similarly to the gain, you want to make sure your new value is saved. You can do so by typing, always in the same VNC terminal you used to set the trim value:\n",
    "\n",
    "    rosservice call /ROBOTNAME/kinematics_node/save_calibration\n",
    "    \n",
    "#### Final check to make sure it’s stored\n",
    "\n",
    "Exactly as before, you can verify that the new gain value has been saved on your Duckiebot by opening the Dashboard > File Manager > Calibrations > Kinematics page. \n",
    "\n",
    "You should find a file named `ROBOTNAME.yaml` in addition to the `default.yaml`. Double click on it and verify that the trim value is indeed the one you chose. "
   ]
  },
  {
   "cell_type": "markdown",
   "metadata": {},
   "source": [
    "## Other kinematics parameters\n",
    "\n",
    "\n"
   ]
  },
  {
   "cell_type": "markdown",
   "metadata": {},
   "source": [
    "You can now move on to the [wheel encoder tutorial](../04-Wheel-Encoders-Tutorial/wheel_encoders_tutorial.ipynb) activity. "
   ]
  }
 ],
 "metadata": {
  "kernelspec": {
   "display_name": "Python 3",
   "language": "python",
   "name": "python3"
  },
  "language_info": {
   "codemirror_mode": {
    "name": "ipython",
    "version": 3
   },
   "file_extension": ".py",
   "mimetype": "text/x-python",
   "name": "python",
   "nbconvert_exporter": "python",
   "pygments_lexer": "ipython3",
   "version": "3.8.5"
  },
  "metadata": {
   "interpreter": {
    "hash": "31f2aee4e71d21fbe5cf8b01ff0e069b9275f58929596ceb00d14d90e3e16cd6"
   }
  }
 },
 "nbformat": 4,
 "nbformat_minor": 4
}
