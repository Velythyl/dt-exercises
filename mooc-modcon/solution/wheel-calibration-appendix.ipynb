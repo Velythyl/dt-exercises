{
 "cells": [
  {
   "cell_type": "markdown",
   "id": "76d9b5f7-66f3-4ed6-aa76-568ddfc757e1",
   "metadata": {
    "tags": [
     "skip"
    ]
   },
   "source": [
    "### Try the automatic trim calibration on the Duckiebot\n",
    "\n",
    "We can attempt an automatic trim calibration procedure, that leveraging the data from wheel encoders to provide an estimate of the trim value. \n",
    "\n",
    "To get started, we will have to open two terminals on our computer. "
   ]
  },
  {
   "cell_type": "markdown",
   "id": "368785df-6e40-4a79-9c83-b927dceb7d79",
   "metadata": {},
   "source": [
    "#### Terminal 1\n",
    "\n",
    "In the first terminal type:\n",
    "\n",
    "    dts exercises test --duckiebot_name ROBOTNAME\n",
    "    \n",
    "(Note: the flag `--duckiebot_name` is equivalent to `-b`.)"
   ]
  },
  {
   "cell_type": "markdown",
   "id": "1f68b14e-3185-4229-9b11-481a69831b93",
   "metadata": {},
   "source": [
    "#### Terminal 2\n",
    "\n",
    "In the second terminal run:\n",
    "\n",
    "    docker -H ROBOTNAME.local exec -it ex-mooc-wheels-calibration-agent /bin/bash"
   ]
  },
  {
   "cell_type": "markdown",
   "id": "568f9024-3282-4284-b86e-e5d303490343",
   "metadata": {
    "tags": [
     "skip"
    ]
   },
   "source": [
    "In this same terminal, run the interactive trim procedure with:\n",
    "\n",
    "    python3 /code/solution/src/interaction_pkg/src/interaction_node.py\n",
    "\n",
    "You will be asked to place your Duckiebot on a lane and drive straight (press only ⬆️) using the virtual joystick in VNC.\n",
    "\n",
    "Follow the prompt on the terminal, and iterate the procedure until satisfaction."
   ]
  }
 ],
 "metadata": {
  "kernelspec": {
   "display_name": "Python 3",
   "language": "python",
   "name": "python3"
  },
  "language_info": {
   "codemirror_mode": {
    "name": "ipython",
    "version": 3
   },
   "file_extension": ".py",
   "mimetype": "text/x-python",
   "name": "python",
   "nbconvert_exporter": "python",
   "pygments_lexer": "ipython3",
   "version": "3.8.5"
  }
 },
 "nbformat": 4,
 "nbformat_minor": 5
}
