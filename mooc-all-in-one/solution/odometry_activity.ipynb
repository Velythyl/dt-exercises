{
 "cells": [
  {
   "cell_type": "markdown",
   "metadata": {
    "tags": [
     "skip"
    ]
   },
   "source": [
    "<!--\n",
    "\n",
    "### Requirements:\n",
    "\n",
    "You need to .....\n",
    "\n",
    "1. simualtion track\n",
    "2. hardware track\n",
    "    - DB21M up and running\n",
    "    - 2 AprilTags\n",
    "\n",
    "### Intended outcomes:\n",
    "\n",
    "Calibrate the Duckiebot kinematic model using the data from the wheel encoders.\n",
    "\n",
    "### Steps:\n",
    "\n",
    "1. Theory  \n",
    "2. Approach\n",
    "3. Implementation\n",
    "4. Validation\n",
    "\n",
    "\n",
    "\n",
    "1. Theory -> Review odometry class\n",
    "2. Approach -> \n",
    "    - Use wheel encoders to estimate the pose of the DB using deadrecknonig approximation. \n",
    "    - Use estimate and ground truth to best fit\n",
    "\n",
    "3. Implementation ->\n",
    "    - Read the data from the wheel encoders \n",
    "        - Sim:\n",
    "        - HW :\n",
    "            \n",
    "    - Obtain the gorund truth from AprilTags\n",
    "\n",
    "\n",
    "4. Validation\n",
    "\n",
    "1. Theoretical understanding of the Duckiebot kinematic model, in particular what the parameters _R_ and _L_ represent.\n",
    "2. Approach:\n",
    "    - Wheel encoders and deadrecknonig\n",
    "    \n",
    "    - Straight path \n",
    "    - Curved path (e.g., sinusoidal)\n",
    "\n",
    "3. Validation of the resulting parameters.\n",
    "\n",
    "-->"
   ]
  },
  {
   "cell_type": "code",
   "execution_count": null,
   "metadata": {},
   "outputs": [],
   "source": [
    "import numpy as np"
   ]
  },
  {
   "cell_type": "markdown",
   "metadata": {},
   "source": [
    "# 🚙 💻 0x - Wheel encoder based odometry"
   ]
  },
  {
   "cell_type": "markdown",
   "metadata": {},
   "source": [
    "## 1. Evaluating rotation of each wheel\n",
    "\n",
    "Let's use the above to measure how much each wheel has rotated \n",
    "\n",
    "### Wheel encoder calibration factor\n",
    "\n",
    "- There are 135 ticks per revolution on these wheel encoders. "
   ]
  },
  {
   "cell_type": "code",
   "execution_count": null,
   "metadata": {},
   "outputs": [],
   "source": [
    "N_tot = 135 # total number of ticks per revolution\n",
    "alpha = 2 * np.pi / N_tot # wheel rotation per tick"
   ]
  },
  {
   "cell_type": "markdown",
   "metadata": {},
   "source": [
    "- At time t: ticks_l(t) = measure ticks from one wheel\n",
    "- At time t+1: ticks_l(t+1) = measure ticks from same wheel\n",
    "- delta_ticks_left = ticks_l(t+1) - ticks_l(t)"
   ]
  },
  {
   "cell_type": "code",
   "execution_count": null,
   "metadata": {},
   "outputs": [],
   "source": [
    "# write function to get delta ticks\n",
    "\n",
    "delta_ticks_left = ticks_left-prev_tick_left # delta ticks of left wheel in arbitrary dt\n",
    "delta_ticks_right = ticks_right-prev_tick_right # delta ticks of right wheel in same dt\n",
    "\n",
    "rotation_wheel_left = alpha * delta_ticks_left # total rotation of left wheel in dt\n",
    "rotation_wheel_right = alpha * delta_ticks_right # total rotation of right wheel in dt"
   ]
  },
  {
   "cell_type": "markdown",
   "metadata": {},
   "source": [
    "## 2. Evaluate distance travelled by each wheel\n",
    "\n",
    "Now let's calculate the distance travelled by each wheel. It depends on the wheel radii. \n",
    "\n",
    "Take a ruler and measure you wheel radii (let's assume they are the same):"
   ]
  },
  {
   "cell_type": "code",
   "execution_count": null,
   "metadata": {},
   "outputs": [],
   "source": [
    "R = 0.033 # insert value measured by ruler, in *meters* (Jacopo measures a diameter of 6.6cm) Default is 0.0318"
   ]
  },
  {
   "cell_type": "markdown",
   "metadata": {},
   "source": [
    "**JT TODO: add instructions on how to go to VNC and set and save the new R** (or directly through start_gui_tools)\n"
   ]
  },
  {
   "cell_type": "code",
   "execution_count": null,
   "metadata": {},
   "outputs": [],
   "source": [
    "# Distance travelled by each wheel in one time step: \n",
    "\n",
    "d_left = R * delta_ticks_left \n",
    "d_right = R * delta_ticks_right"
   ]
  },
  {
   "cell_type": "markdown",
   "metadata": {},
   "source": [
    "## 3. Evaluate distance travelled by the origin of the robot frame, and the robot's rotation\n",
    "\n",
    "The travelled distance of point A (origin of the robot frame) is given by the average of the distances travelled by the wheels (given they symmetry assumption of the Duckiebot):"
   ]
  },
  {
   "cell_type": "code",
   "execution_count": null,
   "metadata": {},
   "outputs": [],
   "source": [
    "d_A = (d_left + d_right)/2"
   ]
  },
  {
   "cell_type": "markdown",
   "metadata": {},
   "source": [
    "Now we need to measure the angular rotation of the robot. \n",
    "To do so we need to measure the baseline that is the distance between the center of the two wheels.\n",
    "Take a ruler and mesure it! "
   ]
  },
  {
   "cell_type": "code",
   "execution_count": null,
   "metadata": {},
   "outputs": [],
   "source": [
    "baseline_wheel2wheel = 0.108 #  (Jacopo measure wheel to wheel l = 10.8cm)"
   ]
  },
  {
   "cell_type": "markdown",
   "metadata": {},
   "source": [
    "**JT TODO: add instructions on how to go to VNC and set and save the new L** (or directly through start_gui_tools)"
   ]
  },
  {
   "cell_type": "code",
   "execution_count": null,
   "metadata": {},
   "outputs": [],
   "source": [
    "Delta_Theta = (d_right-d_left)/baseline_wheel2wheel"
   ]
  },
  {
   "cell_type": "markdown",
   "metadata": {
    "tags": [
     "skip"
    ]
   },
   "source": [
    "### Step 10\n",
    "\n",
    "Write in the cell below the code to estimate the pose of the Duckiebot using data given by the wheel encoders.\n",
    "\n",
    "**DO NOT CHANGE THE NAME OF THE FUNCTION**"
   ]
  },
  {
   "cell_type": "code",
   "execution_count": 1,
   "metadata": {},
   "outputs": [],
   "source": [
    "def DeltaPhi(encoder_msg, prev_ticks):\n",
    "    \"\"\"\n",
    "        Args:\n",
    "            encoder_msg (ROS encoder message)\n",
    "            prev_ticks (Current ticks)\n",
    "        Return:\n",
    "            rotation_wheel (double) Rotation of the wheel\n",
    "            ticks (int) current number of ticks\n",
    "    \"\"\"\n",
    "    ticks = msg_encoder.data\n",
    "\n",
    "    delta_ticks = ticks-prev_ticks\n",
    "\n",
    "    N_tot = msg_encoder.resolution\n",
    "\n",
    "    alpha = 2*np.pi/N_tot\n",
    "\n",
    "    rotation_wheel = alpha*delta_ticks\n",
    "    \n",
    "    return rotation_wheel, ticks"
   ]
  },
  {
   "cell_type": "markdown",
   "metadata": {},
   "source": []
  },
  {
   "cell_type": "code",
   "execution_count": 1,
   "metadata": {
    "tags": [
     "export"
    ]
   },
   "outputs": [],
   "source": [
    "\n",
    "import numpy as np # already imported above \n",
    "\n",
    "# DO NOT CHANGE THE NAME OF THIS FUNCTION\n",
    "def poseEstimation( R,\n",
    "                    baseline_wheel2wheel,\n",
    "                    x_prev,\n",
    "                    y_prev,\n",
    "                    theta_prev,\n",
    "                    delta_phi_left,\n",
    "                    delta_phi_right):\n",
    "    \"\"\"\n",
    "        Calculate the current Duckiebot pose using dead reckoning approach,\n",
    "        based on the kinematic model.\n",
    "\n",
    "        Returns:\n",
    "            x_curr, y_curr, theta_curr (:double: values)\n",
    "    \"\"\"\n",
    "    x_curr = x_prev + R*(delta_phi_left+delta_phi_right)*np.cos(theta_prev)/2\n",
    "    y_curr = y_prev + R*(delta_phi_left+delta_phi_right)*np.sin(theta_prev)/2\n",
    "    theta_curr = theta_prev + R*(delta_phi_right-delta_phi_left)/baseline_wheel2wheel\n",
    "    \n",
    "    return x_curr, y_curr, theta_curr"
   ]
  },
  {
   "cell_type": "markdown",
   "metadata": {},
   "source": [
    "### Unit Test\n",
    "\n",
    "**TODO: Vincenzo make a different unit test such that given Delta ticks constant to each wheel, we plot (x,y) of the robot running the above function and it should go in a circle)**\n",
    "\n",
    "Let's see if the function you wrote above passes the following test!\n",
    "\n",
    "Unit tests are useful to check if the piece of code you write does its job correctly.\n",
    "If the tests are good you will not see any output.\n"
   ]
  },
  {
   "cell_type": "code",
   "execution_count": 2,
   "metadata": {},
   "outputs": [
    {
     "data": {
      "image/png": "[encoded data removed]",
      "text/plain": [
       "<Figure size 432x288 with 1 Axes>"
      ]
     },
     "metadata": {
      "needs_background": "light"
     },
     "output_type": "display_data"
    },
    {
     "data": {
      "text/plain": [
       "<unit_test.UnitTestOdometry at 0x7f6c12c36b20>"
      ]
     },
     "execution_count": 2,
     "metadata": {},
     "output_type": "execute_result"
    }
   ],
   "source": [
    "from unit_test import UnitTestOdometry\n",
    "\n",
    "R = 0.033\n",
    "baseline_wheel2wheel = 0.108\n",
    "\n",
    "UnitTestOdometry(R, baseline_wheel2wheel, poseEstimation)\n"
   ]
  },
  {
   "cell_type": "markdown",
   "metadata": {
    "tags": [
     "skip"
    ]
   },
   "source": [
    "### Run the Activity\n",
    "\n",
    "** TODO: Jacopo write the testing experience both in simulation and on the real robot**\n",
    "\n",
    "Objective is drive robot around and see the odometry track"
   ]
  },
  {
   "cell_type": "code",
   "execution_count": null,
   "metadata": {
    "tags": [
     "skip"
    ]
   },
   "outputs": [],
   "source": [
    "! cd .. && dts exercises build"
   ]
  },
  {
   "cell_type": "markdown",
   "metadata": {
    "tags": [
     "skip"
    ]
   },
   "source": [
    "### Run the Activity in simulation"
   ]
  },
  {
   "cell_type": "code",
   "execution_count": null,
   "metadata": {
    "tags": [
     "skip"
    ]
   },
   "outputs": [],
   "source": [
    "! cd .. && dts exercises test --sim"
   ]
  },
  {
   "cell_type": "markdown",
   "metadata": {
    "tags": [
     "skip"
    ]
   },
   "source": [
    "After running the above command, open the following link http://localhost:8087 you will visualize the VNC. Then from the VNC open RVIZ, press the `Add` on the bottom left side of the window, after that go to the tab `topics` and select `/DUCKIEBOT_NAME/encoder_localization`. Finally open the joystick (on the Desktop) and move the robot. You will see that the pose arrow start moving according to the given commands."
   ]
  },
  {
   "cell_type": "markdown",
   "metadata": {
    "tags": [
     "skip"
    ]
   },
   "source": [
    "### Run the activity on the Duckiebot"
   ]
  },
  {
   "cell_type": "code",
   "execution_count": null,
   "metadata": {
    "tags": [
     "skip"
    ]
   },
   "outputs": [],
   "source": [
    "! cd .. && dts exercises test --duckiebot_name ![DB_NAME] "
   ]
  },
  {
   "cell_type": "markdown",
   "metadata": {
    "tags": [
     "skip"
    ]
   },
   "source": [
    "After running the above command, open the following link http://localhost:8087 you will visualize the VNC. Then from the VNC open RVIZ, press the `Add` on the bottom left side of the window, after that go to the tab `topics` and select `/DUCKIEBOT_NAME/encoder_localization`. Finally open the joystick (on the Desktop) and move the robot. You will see that the pose arrow start moving according to the given commands."
   ]
  }
 ],
 "metadata": {
  "kernelspec": {
   "display_name": "Python 3",
   "language": "python",
   "name": "python3"
  },
  "language_info": {
   "codemirror_mode": {
    "name": "ipython",
    "version": 3
   },
   "file_extension": ".py",
   "mimetype": "text/x-python",
   "name": "python",
   "nbconvert_exporter": "python",
   "pygments_lexer": "ipython3",
   "version": "3.8.5"
  }
 },
 "nbformat": 4,
 "nbformat_minor": 4
}
