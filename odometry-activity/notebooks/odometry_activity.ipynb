{
 "metadata": {
  "language_info": {
   "codemirror_mode": {
    "name": "ipython",
    "version": 3
   },
   "file_extension": ".py",
   "mimetype": "text/x-python",
   "name": "python",
   "nbconvert_exporter": "python",
   "pygments_lexer": "ipython3",
   "version": 3
  },
  "orig_nbformat": 2
 },
 "nbformat": 4,
 "nbformat_minor": 2,
 "cells": [
  {
   "source": [
    "Write the function in the cell below"
   ],
   "cell_type": "markdown",
   "metadata": {}
  },
  {
   "cell_type": "code",
   "execution_count": null,
   "metadata": {},
   "outputs": [],
   "source": [
    "\n",
    "import numpy as np\n",
    "\n",
    "def poseEstimation( R,\n",
    "                    L,\n",
    "                    x_prev,\n",
    "                    y_prev,\n",
    "                    theta_prev,\n",
    "                    delta_phi_left,\n",
    "                    delta_phi_right):\n",
    "    \"\"\"\n",
    "        Calculate the current Duckiebot pose using dead reckoning approach,\n",
    "        based on the kinematic model.\n",
    "\n",
    "        Returns:\n",
    "            x_curr, y_curr, theta_curr (:double: values)\n",
    "    \"\"\"\n",
    "    w = [R, R/L, 1]\n",
    "    x = np.array(\n",
    "        [\n",
    "            [\n",
    "                (delta_phi_left+delta_phi_right)*np.cos(theta_prev)/2,\n",
    "                (delta_phi_left+delta_phi_right)*np.sin(theta_prev)/2,\n",
    "                0\n",
    "            ],\n",
    "            [\n",
    "                0,\n",
    "                0,\n",
    "                (delta_phi_right-delta_phi_left)/2],\n",
    "            [\n",
    "                x_prev,\n",
    "                y_prev,\n",
    "                theta_prev\n",
    "            ]\n",
    "        ])\n",
    "\n",
    "    x_curr, y_curr, theta_curr = np.array(w).dot(x)\n",
    "\n",
    "    return x_curr, y_curr, theta_curr"
   ]
  }
 ]
}